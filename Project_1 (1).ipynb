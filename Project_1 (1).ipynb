{
  "nbformat": 4,
  "nbformat_minor": 0,
  "metadata": {
    "colab": {
      "provenance": []
    },
    "kernelspec": {
      "name": "python3",
      "display_name": "Python 3"
    },
    "language_info": {
      "name": "python"
    }
  },
  "cells": [
    {
      "cell_type": "markdown",
      "source": [
        "Getting the top 5 deals by funded amount:\n",
        "Read the data from the Excel file into a pandas DataFrame.\n",
        "Sort the DataFrame by the funded amount column in descending order.\n",
        "Retrieve the top 5 rows to get the top 5 deals by funded amount."
      ],
      "metadata": {
        "id": "jV4Id22jR1MC"
      }
    },
    {
      "cell_type": "code",
      "execution_count": null,
      "metadata": {
        "id": "wtu-kWUgRsJm"
      },
      "outputs": [],
      "source": [
        "import pandas as pd\n"
      ]
    },
    {
      "cell_type": "code",
      "source": [
        "# Read data from Excel file into DataFrame\n",
        "deals_df = pd.read_csv('/content/Israeltheanalyst Bootcamp - Deal.csv')"
      ],
      "metadata": {
        "id": "Nb4GXP4zSAF6"
      },
      "execution_count": null,
      "outputs": []
    },
    {
      "cell_type": "code",
      "source": [
        "deals_df"
      ],
      "metadata": {
        "colab": {
          "base_uri": "https://localhost:8080/",
          "height": 424
        },
        "id": "7zxbZfMVSakB",
        "outputId": "6801b380-9b71-405d-c195-5e47ee6b1cfe"
      },
      "execution_count": null,
      "outputs": [
        {
          "output_type": "execute_result",
          "data": {
            "text/plain": [
              "                 deal_id  funded_amount funded_date  industry_id\n",
              "0     a4Gf1000000nS5ZEAU         175000    4/3/2020            3\n",
              "1     a4Gf1000000nS5jEAE           3800   5/21/2019            3\n",
              "2     a4Gf1000000nS5nEAE           6600   9/25/2020            3\n",
              "3     a4Gf1000000nS5pEAE          13000   4/27/2020            4\n",
              "4     a4Gf1000000nS5uEAE           5600   3/14/2020            3\n",
              "...                  ...            ...         ...          ...\n",
              "1300  a4Gf1000000nSo4EAE          15000   1/21/2018            1\n",
              "1301  a4Gf1000000nSo5EAE          28000   11/9/2018            2\n",
              "1302  a4Gf1000000nSo7EAE          12000    7/9/2020            2\n",
              "1303  a4Gf1000000nSo9EAE          10000   1/25/2019            1\n",
              "1304  a4Gf1000000nSoDEAU          20000   6/27/2018            4\n",
              "\n",
              "[1305 rows x 4 columns]"
            ],
            "text/html": [
              "\n",
              "  <div id=\"df-d337a454-3e56-452a-becc-99016ebf35f2\" class=\"colab-df-container\">\n",
              "    <div>\n",
              "<style scoped>\n",
              "    .dataframe tbody tr th:only-of-type {\n",
              "        vertical-align: middle;\n",
              "    }\n",
              "\n",
              "    .dataframe tbody tr th {\n",
              "        vertical-align: top;\n",
              "    }\n",
              "\n",
              "    .dataframe thead th {\n",
              "        text-align: right;\n",
              "    }\n",
              "</style>\n",
              "<table border=\"1\" class=\"dataframe\">\n",
              "  <thead>\n",
              "    <tr style=\"text-align: right;\">\n",
              "      <th></th>\n",
              "      <th>deal_id</th>\n",
              "      <th>funded_amount</th>\n",
              "      <th>funded_date</th>\n",
              "      <th>industry_id</th>\n",
              "    </tr>\n",
              "  </thead>\n",
              "  <tbody>\n",
              "    <tr>\n",
              "      <th>0</th>\n",
              "      <td>a4Gf1000000nS5ZEAU</td>\n",
              "      <td>175000</td>\n",
              "      <td>4/3/2020</td>\n",
              "      <td>3</td>\n",
              "    </tr>\n",
              "    <tr>\n",
              "      <th>1</th>\n",
              "      <td>a4Gf1000000nS5jEAE</td>\n",
              "      <td>3800</td>\n",
              "      <td>5/21/2019</td>\n",
              "      <td>3</td>\n",
              "    </tr>\n",
              "    <tr>\n",
              "      <th>2</th>\n",
              "      <td>a4Gf1000000nS5nEAE</td>\n",
              "      <td>6600</td>\n",
              "      <td>9/25/2020</td>\n",
              "      <td>3</td>\n",
              "    </tr>\n",
              "    <tr>\n",
              "      <th>3</th>\n",
              "      <td>a4Gf1000000nS5pEAE</td>\n",
              "      <td>13000</td>\n",
              "      <td>4/27/2020</td>\n",
              "      <td>4</td>\n",
              "    </tr>\n",
              "    <tr>\n",
              "      <th>4</th>\n",
              "      <td>a4Gf1000000nS5uEAE</td>\n",
              "      <td>5600</td>\n",
              "      <td>3/14/2020</td>\n",
              "      <td>3</td>\n",
              "    </tr>\n",
              "    <tr>\n",
              "      <th>...</th>\n",
              "      <td>...</td>\n",
              "      <td>...</td>\n",
              "      <td>...</td>\n",
              "      <td>...</td>\n",
              "    </tr>\n",
              "    <tr>\n",
              "      <th>1300</th>\n",
              "      <td>a4Gf1000000nSo4EAE</td>\n",
              "      <td>15000</td>\n",
              "      <td>1/21/2018</td>\n",
              "      <td>1</td>\n",
              "    </tr>\n",
              "    <tr>\n",
              "      <th>1301</th>\n",
              "      <td>a4Gf1000000nSo5EAE</td>\n",
              "      <td>28000</td>\n",
              "      <td>11/9/2018</td>\n",
              "      <td>2</td>\n",
              "    </tr>\n",
              "    <tr>\n",
              "      <th>1302</th>\n",
              "      <td>a4Gf1000000nSo7EAE</td>\n",
              "      <td>12000</td>\n",
              "      <td>7/9/2020</td>\n",
              "      <td>2</td>\n",
              "    </tr>\n",
              "    <tr>\n",
              "      <th>1303</th>\n",
              "      <td>a4Gf1000000nSo9EAE</td>\n",
              "      <td>10000</td>\n",
              "      <td>1/25/2019</td>\n",
              "      <td>1</td>\n",
              "    </tr>\n",
              "    <tr>\n",
              "      <th>1304</th>\n",
              "      <td>a4Gf1000000nSoDEAU</td>\n",
              "      <td>20000</td>\n",
              "      <td>6/27/2018</td>\n",
              "      <td>4</td>\n",
              "    </tr>\n",
              "  </tbody>\n",
              "</table>\n",
              "<p>1305 rows × 4 columns</p>\n",
              "</div>\n",
              "    <div class=\"colab-df-buttons\">\n",
              "\n",
              "  <div class=\"colab-df-container\">\n",
              "    <button class=\"colab-df-convert\" onclick=\"convertToInteractive('df-d337a454-3e56-452a-becc-99016ebf35f2')\"\n",
              "            title=\"Convert this dataframe to an interactive table.\"\n",
              "            style=\"display:none;\">\n",
              "\n",
              "  <svg xmlns=\"http://www.w3.org/2000/svg\" height=\"24px\" viewBox=\"0 -960 960 960\">\n",
              "    <path d=\"M120-120v-720h720v720H120Zm60-500h600v-160H180v160Zm220 220h160v-160H400v160Zm0 220h160v-160H400v160ZM180-400h160v-160H180v160Zm440 0h160v-160H620v160ZM180-180h160v-160H180v160Zm440 0h160v-160H620v160Z\"/>\n",
              "  </svg>\n",
              "    </button>\n",
              "\n",
              "  <style>\n",
              "    .colab-df-container {\n",
              "      display:flex;\n",
              "      gap: 12px;\n",
              "    }\n",
              "\n",
              "    .colab-df-convert {\n",
              "      background-color: #E8F0FE;\n",
              "      border: none;\n",
              "      border-radius: 50%;\n",
              "      cursor: pointer;\n",
              "      display: none;\n",
              "      fill: #1967D2;\n",
              "      height: 32px;\n",
              "      padding: 0 0 0 0;\n",
              "      width: 32px;\n",
              "    }\n",
              "\n",
              "    .colab-df-convert:hover {\n",
              "      background-color: #E2EBFA;\n",
              "      box-shadow: 0px 1px 2px rgba(60, 64, 67, 0.3), 0px 1px 3px 1px rgba(60, 64, 67, 0.15);\n",
              "      fill: #174EA6;\n",
              "    }\n",
              "\n",
              "    .colab-df-buttons div {\n",
              "      margin-bottom: 4px;\n",
              "    }\n",
              "\n",
              "    [theme=dark] .colab-df-convert {\n",
              "      background-color: #3B4455;\n",
              "      fill: #D2E3FC;\n",
              "    }\n",
              "\n",
              "    [theme=dark] .colab-df-convert:hover {\n",
              "      background-color: #434B5C;\n",
              "      box-shadow: 0px 1px 3px 1px rgba(0, 0, 0, 0.15);\n",
              "      filter: drop-shadow(0px 1px 2px rgba(0, 0, 0, 0.3));\n",
              "      fill: #FFFFFF;\n",
              "    }\n",
              "  </style>\n",
              "\n",
              "    <script>\n",
              "      const buttonEl =\n",
              "        document.querySelector('#df-d337a454-3e56-452a-becc-99016ebf35f2 button.colab-df-convert');\n",
              "      buttonEl.style.display =\n",
              "        google.colab.kernel.accessAllowed ? 'block' : 'none';\n",
              "\n",
              "      async function convertToInteractive(key) {\n",
              "        const element = document.querySelector('#df-d337a454-3e56-452a-becc-99016ebf35f2');\n",
              "        const dataTable =\n",
              "          await google.colab.kernel.invokeFunction('convertToInteractive',\n",
              "                                                    [key], {});\n",
              "        if (!dataTable) return;\n",
              "\n",
              "        const docLinkHtml = 'Like what you see? Visit the ' +\n",
              "          '<a target=\"_blank\" href=https://colab.research.google.com/notebooks/data_table.ipynb>data table notebook</a>'\n",
              "          + ' to learn more about interactive tables.';\n",
              "        element.innerHTML = '';\n",
              "        dataTable['output_type'] = 'display_data';\n",
              "        await google.colab.output.renderOutput(dataTable, element);\n",
              "        const docLink = document.createElement('div');\n",
              "        docLink.innerHTML = docLinkHtml;\n",
              "        element.appendChild(docLink);\n",
              "      }\n",
              "    </script>\n",
              "  </div>\n",
              "\n",
              "\n",
              "<div id=\"df-dd20d8e8-1c90-4ece-bdf1-7c22b5e13672\">\n",
              "  <button class=\"colab-df-quickchart\" onclick=\"quickchart('df-dd20d8e8-1c90-4ece-bdf1-7c22b5e13672')\"\n",
              "            title=\"Suggest charts\"\n",
              "            style=\"display:none;\">\n",
              "\n",
              "<svg xmlns=\"http://www.w3.org/2000/svg\" height=\"24px\"viewBox=\"0 0 24 24\"\n",
              "     width=\"24px\">\n",
              "    <g>\n",
              "        <path d=\"M19 3H5c-1.1 0-2 .9-2 2v14c0 1.1.9 2 2 2h14c1.1 0 2-.9 2-2V5c0-1.1-.9-2-2-2zM9 17H7v-7h2v7zm4 0h-2V7h2v10zm4 0h-2v-4h2v4z\"/>\n",
              "    </g>\n",
              "</svg>\n",
              "  </button>\n",
              "\n",
              "<style>\n",
              "  .colab-df-quickchart {\n",
              "      --bg-color: #E8F0FE;\n",
              "      --fill-color: #1967D2;\n",
              "      --hover-bg-color: #E2EBFA;\n",
              "      --hover-fill-color: #174EA6;\n",
              "      --disabled-fill-color: #AAA;\n",
              "      --disabled-bg-color: #DDD;\n",
              "  }\n",
              "\n",
              "  [theme=dark] .colab-df-quickchart {\n",
              "      --bg-color: #3B4455;\n",
              "      --fill-color: #D2E3FC;\n",
              "      --hover-bg-color: #434B5C;\n",
              "      --hover-fill-color: #FFFFFF;\n",
              "      --disabled-bg-color: #3B4455;\n",
              "      --disabled-fill-color: #666;\n",
              "  }\n",
              "\n",
              "  .colab-df-quickchart {\n",
              "    background-color: var(--bg-color);\n",
              "    border: none;\n",
              "    border-radius: 50%;\n",
              "    cursor: pointer;\n",
              "    display: none;\n",
              "    fill: var(--fill-color);\n",
              "    height: 32px;\n",
              "    padding: 0;\n",
              "    width: 32px;\n",
              "  }\n",
              "\n",
              "  .colab-df-quickchart:hover {\n",
              "    background-color: var(--hover-bg-color);\n",
              "    box-shadow: 0 1px 2px rgba(60, 64, 67, 0.3), 0 1px 3px 1px rgba(60, 64, 67, 0.15);\n",
              "    fill: var(--button-hover-fill-color);\n",
              "  }\n",
              "\n",
              "  .colab-df-quickchart-complete:disabled,\n",
              "  .colab-df-quickchart-complete:disabled:hover {\n",
              "    background-color: var(--disabled-bg-color);\n",
              "    fill: var(--disabled-fill-color);\n",
              "    box-shadow: none;\n",
              "  }\n",
              "\n",
              "  .colab-df-spinner {\n",
              "    border: 2px solid var(--fill-color);\n",
              "    border-color: transparent;\n",
              "    border-bottom-color: var(--fill-color);\n",
              "    animation:\n",
              "      spin 1s steps(1) infinite;\n",
              "  }\n",
              "\n",
              "  @keyframes spin {\n",
              "    0% {\n",
              "      border-color: transparent;\n",
              "      border-bottom-color: var(--fill-color);\n",
              "      border-left-color: var(--fill-color);\n",
              "    }\n",
              "    20% {\n",
              "      border-color: transparent;\n",
              "      border-left-color: var(--fill-color);\n",
              "      border-top-color: var(--fill-color);\n",
              "    }\n",
              "    30% {\n",
              "      border-color: transparent;\n",
              "      border-left-color: var(--fill-color);\n",
              "      border-top-color: var(--fill-color);\n",
              "      border-right-color: var(--fill-color);\n",
              "    }\n",
              "    40% {\n",
              "      border-color: transparent;\n",
              "      border-right-color: var(--fill-color);\n",
              "      border-top-color: var(--fill-color);\n",
              "    }\n",
              "    60% {\n",
              "      border-color: transparent;\n",
              "      border-right-color: var(--fill-color);\n",
              "    }\n",
              "    80% {\n",
              "      border-color: transparent;\n",
              "      border-right-color: var(--fill-color);\n",
              "      border-bottom-color: var(--fill-color);\n",
              "    }\n",
              "    90% {\n",
              "      border-color: transparent;\n",
              "      border-bottom-color: var(--fill-color);\n",
              "    }\n",
              "  }\n",
              "</style>\n",
              "\n",
              "  <script>\n",
              "    async function quickchart(key) {\n",
              "      const quickchartButtonEl =\n",
              "        document.querySelector('#' + key + ' button');\n",
              "      quickchartButtonEl.disabled = true;  // To prevent multiple clicks.\n",
              "      quickchartButtonEl.classList.add('colab-df-spinner');\n",
              "      try {\n",
              "        const charts = await google.colab.kernel.invokeFunction(\n",
              "            'suggestCharts', [key], {});\n",
              "      } catch (error) {\n",
              "        console.error('Error during call to suggestCharts:', error);\n",
              "      }\n",
              "      quickchartButtonEl.classList.remove('colab-df-spinner');\n",
              "      quickchartButtonEl.classList.add('colab-df-quickchart-complete');\n",
              "    }\n",
              "    (() => {\n",
              "      let quickchartButtonEl =\n",
              "        document.querySelector('#df-dd20d8e8-1c90-4ece-bdf1-7c22b5e13672 button');\n",
              "      quickchartButtonEl.style.display =\n",
              "        google.colab.kernel.accessAllowed ? 'block' : 'none';\n",
              "    })();\n",
              "  </script>\n",
              "</div>\n",
              "\n",
              "  <div id=\"id_18826ccb-2147-4fa1-ba7b-40b27350a4ff\">\n",
              "    <style>\n",
              "      .colab-df-generate {\n",
              "        background-color: #E8F0FE;\n",
              "        border: none;\n",
              "        border-radius: 50%;\n",
              "        cursor: pointer;\n",
              "        display: none;\n",
              "        fill: #1967D2;\n",
              "        height: 32px;\n",
              "        padding: 0 0 0 0;\n",
              "        width: 32px;\n",
              "      }\n",
              "\n",
              "      .colab-df-generate:hover {\n",
              "        background-color: #E2EBFA;\n",
              "        box-shadow: 0px 1px 2px rgba(60, 64, 67, 0.3), 0px 1px 3px 1px rgba(60, 64, 67, 0.15);\n",
              "        fill: #174EA6;\n",
              "      }\n",
              "\n",
              "      [theme=dark] .colab-df-generate {\n",
              "        background-color: #3B4455;\n",
              "        fill: #D2E3FC;\n",
              "      }\n",
              "\n",
              "      [theme=dark] .colab-df-generate:hover {\n",
              "        background-color: #434B5C;\n",
              "        box-shadow: 0px 1px 3px 1px rgba(0, 0, 0, 0.15);\n",
              "        filter: drop-shadow(0px 1px 2px rgba(0, 0, 0, 0.3));\n",
              "        fill: #FFFFFF;\n",
              "      }\n",
              "    </style>\n",
              "    <button class=\"colab-df-generate\" onclick=\"generateWithVariable('deals_df')\"\n",
              "            title=\"Generate code using this dataframe.\"\n",
              "            style=\"display:none;\">\n",
              "\n",
              "  <svg xmlns=\"http://www.w3.org/2000/svg\" height=\"24px\"viewBox=\"0 0 24 24\"\n",
              "       width=\"24px\">\n",
              "    <path d=\"M7,19H8.4L18.45,9,17,7.55,7,17.6ZM5,21V16.75L18.45,3.32a2,2,0,0,1,2.83,0l1.4,1.43a1.91,1.91,0,0,1,.58,1.4,1.91,1.91,0,0,1-.58,1.4L9.25,21ZM18.45,9,17,7.55Zm-12,3A5.31,5.31,0,0,0,4.9,8.1,5.31,5.31,0,0,0,1,6.5,5.31,5.31,0,0,0,4.9,4.9,5.31,5.31,0,0,0,6.5,1,5.31,5.31,0,0,0,8.1,4.9,5.31,5.31,0,0,0,12,6.5,5.46,5.46,0,0,0,6.5,12Z\"/>\n",
              "  </svg>\n",
              "    </button>\n",
              "    <script>\n",
              "      (() => {\n",
              "      const buttonEl =\n",
              "        document.querySelector('#id_18826ccb-2147-4fa1-ba7b-40b27350a4ff button.colab-df-generate');\n",
              "      buttonEl.style.display =\n",
              "        google.colab.kernel.accessAllowed ? 'block' : 'none';\n",
              "\n",
              "      buttonEl.onclick = () => {\n",
              "        google.colab.notebook.generateWithVariable('deals_df');\n",
              "      }\n",
              "      })();\n",
              "    </script>\n",
              "  </div>\n",
              "\n",
              "    </div>\n",
              "  </div>\n"
            ],
            "application/vnd.google.colaboratory.intrinsic+json": {
              "type": "dataframe",
              "variable_name": "deals_df",
              "summary": "{\n  \"name\": \"deals_df\",\n  \"rows\": 1305,\n  \"fields\": [\n    {\n      \"column\": \"deal_id\",\n      \"properties\": {\n        \"dtype\": \"string\",\n        \"num_unique_values\": 1305,\n        \"samples\": [\n          \"a4Gf1000000nSgqEAE\",\n          \"a4Gf1000000nSf1EAE\",\n          \"a4Gf1000000nSgYEAU\"\n        ],\n        \"semantic_type\": \"\",\n        \"description\": \"\"\n      }\n    },\n    {\n      \"column\": \"funded_amount\",\n      \"properties\": {\n        \"dtype\": \"number\",\n        \"std\": 24953,\n        \"min\": 1400,\n        \"max\": 225000,\n        \"num_unique_values\": 140,\n        \"samples\": [\n          7700,\n          80000,\n          100000\n        ],\n        \"semantic_type\": \"\",\n        \"description\": \"\"\n      }\n    },\n    {\n      \"column\": \"funded_date\",\n      \"properties\": {\n        \"dtype\": \"object\",\n        \"num_unique_values\": 778,\n        \"samples\": [\n          \"4/2/2020\",\n          \"11/6/2018\",\n          \"11/7/2018\"\n        ],\n        \"semantic_type\": \"\",\n        \"description\": \"\"\n      }\n    },\n    {\n      \"column\": \"industry_id\",\n      \"properties\": {\n        \"dtype\": \"number\",\n        \"std\": 1,\n        \"min\": 1,\n        \"max\": 4,\n        \"num_unique_values\": 4,\n        \"samples\": [\n          4,\n          2,\n          3\n        ],\n        \"semantic_type\": \"\",\n        \"description\": \"\"\n      }\n    }\n  ]\n}"
            }
          },
          "metadata": {},
          "execution_count": 4
        }
      ]
    },
    {
      "cell_type": "code",
      "source": [
        "# Sort DataFrame by funded amount in descending order\n",
        "top_deals = deals_df.sort_values(by='funded_amount', ascending=False).head(5)"
      ],
      "metadata": {
        "id": "v68BRWO5SVpx"
      },
      "execution_count": null,
      "outputs": []
    },
    {
      "cell_type": "code",
      "source": [
        "print(top_deals)"
      ],
      "metadata": {
        "colab": {
          "base_uri": "https://localhost:8080/"
        },
        "id": "oz1fN89dSiNY",
        "outputId": "bf9ff543-bf61-4209-99fe-7cdfd92c1ae0"
      },
      "execution_count": null,
      "outputs": [
        {
          "output_type": "stream",
          "name": "stdout",
          "text": [
            "                 deal_id  funded_amount funded_date  industry_id\n",
            "1290  a4Gf1000000nSnZEAU         225000  11/28/2018            1\n",
            "563   a4Gf1000000nSiXEAU         210000   11/1/2019            4\n",
            "84    a4Gf1000000nSOiEAM         200000   6/25/2019            4\n",
            "5     a4Gf1000000nS5vEAE         180000   8/12/2018            3\n",
            "0     a4Gf1000000nS5ZEAU         175000    4/3/2020            3\n"
          ]
        }
      ]
    },
    {
      "cell_type": "markdown",
      "source": [
        "Getting the total deals and average funded amount by industry:"
      ],
      "metadata": {
        "id": "jaf0NGHATXi_"
      }
    },
    {
      "cell_type": "code",
      "source": [
        "# Group data by industry and calculate total deals and average funded amount\n",
        "industry_stats = deals_df.groupby('industry_id').agg({'deal_id': 'count', 'funded_amount': 'mean'})\n",
        "\n",
        "print(industry_stats)"
      ],
      "metadata": {
        "colab": {
          "base_uri": "https://localhost:8080/"
        },
        "id": "UXUuHQR6S1K_",
        "outputId": "d45cb08b-78e5-45c8-da3e-50f9b1740102"
      },
      "execution_count": null,
      "outputs": [
        {
          "output_type": "stream",
          "name": "stdout",
          "text": [
            "             deal_id  funded_amount\n",
            "industry_id                        \n",
            "1                218   21236.238532\n",
            "2                415   16064.578313\n",
            "3                262   15143.129771\n",
            "4                410   19741.170732\n"
          ]
        }
      ]
    },
    {
      "cell_type": "markdown",
      "source": [
        "Building a visual trended view showing funded amount per industry by year and quarter:"
      ],
      "metadata": {
        "id": "x4-AUT_aT_8_"
      }
    },
    {
      "source": [
        "print(deals_df['funded_date'].dtype)"
      ],
      "cell_type": "code",
      "metadata": {
        "colab": {
          "base_uri": "https://localhost:8080/"
        },
        "id": "2pD3fNr1WGus",
        "outputId": "ea535353-2496-477e-ecae-cca55fefa226"
      },
      "execution_count": null,
      "outputs": [
        {
          "output_type": "stream",
          "name": "stdout",
          "text": [
            "object\n"
          ]
        }
      ]
    },
    {
      "source": [
        "deals_df['funded_date'] = pd.to_datetime(deals_df['funded_date'])"
      ],
      "cell_type": "code",
      "metadata": {
        "id": "K_LysmMNWJ2k"
      },
      "execution_count": null,
      "outputs": []
    },
    {
      "source": [
        "# Create 'Year' column\n",
        "deals_df['Year'] = deals_df['funded_date'].dt.year\n",
        "\n",
        "# Create 'Quarter' column\n",
        "deals_df['Quarter'] = deals_df['funded_date'].dt.quarter\n",
        "\n",
        "print(deals_df.head())"
      ],
      "cell_type": "code",
      "metadata": {
        "colab": {
          "base_uri": "https://localhost:8080/"
        },
        "id": "KOi1qN2iWLcE",
        "outputId": "919a1573-7b82-45d2-9da8-624694ffb9e3"
      },
      "execution_count": null,
      "outputs": [
        {
          "output_type": "stream",
          "name": "stdout",
          "text": [
            "              deal_id  funded_amount funded_date  industry_id  Year  Quarter\n",
            "0  a4Gf1000000nS5ZEAU         175000  2020-04-03            3  2020        2\n",
            "1  a4Gf1000000nS5jEAE           3800  2019-05-21            3  2019        2\n",
            "2  a4Gf1000000nS5nEAE           6600  2020-09-25            3  2020        3\n",
            "3  a4Gf1000000nS5pEAE          13000  2020-04-27            4  2020        2\n",
            "4  a4Gf1000000nS5uEAE           5600  2020-03-14            3  2020        1\n"
          ]
        }
      ]
    },
    {
      "cell_type": "code",
      "source": [
        "# Group data by industry, year, and quarter and calculate sum of funded amount\n",
        "industry_trend = deals_df.groupby(['industry_id', 'Year', 'Quarter'])['funded_amount'].sum().reset_index()\n"
      ],
      "metadata": {
        "id": "2clVuQfBWQwM"
      },
      "execution_count": null,
      "outputs": []
    },
    {
      "cell_type": "code",
      "source": [
        "print(industry_trend)"
      ],
      "metadata": {
        "colab": {
          "base_uri": "https://localhost:8080/"
        },
        "id": "SqDF1wtztzdv",
        "outputId": "2b2765bc-221f-4785-911d-7fdf75a8bed8"
      },
      "execution_count": null,
      "outputs": [
        {
          "output_type": "stream",
          "name": "stdout",
          "text": [
            "    industry_id  Year  Quarter  funded_amount\n",
            "0             1  2018        1         404200\n",
            "1             1  2018        2         228700\n",
            "2             1  2018        3         476200\n",
            "3             1  2018        4         535800\n",
            "4             1  2019        1         374100\n",
            "5             1  2019        2         430600\n",
            "6             1  2019        3         118000\n",
            "7             1  2019        4         519200\n",
            "8             1  2020        1         567600\n",
            "9             1  2020        2         290800\n",
            "10            1  2020        3         348600\n",
            "11            1  2020        4         335700\n",
            "12            2  2018        1         588600\n",
            "13            2  2018        2         525600\n",
            "14            2  2018        3         685000\n",
            "15            2  2018        4         604400\n",
            "16            2  2019        1         512400\n",
            "17            2  2019        2         256600\n",
            "18            2  2019        3         501000\n",
            "19            2  2019        4         532000\n",
            "20            2  2020        1         477200\n",
            "21            2  2020        2         581300\n",
            "22            2  2020        3         723500\n",
            "23            2  2020        4         679200\n",
            "24            3  2018        1         309800\n",
            "25            3  2018        2         242000\n",
            "26            3  2018        3         506300\n",
            "27            3  2018        4         195700\n",
            "28            3  2019        1         309500\n",
            "29            3  2019        2         356600\n",
            "30            3  2019        3         227900\n",
            "31            3  2019        4         501500\n",
            "32            3  2020        1         193600\n",
            "33            3  2020        2         550200\n",
            "34            3  2020        3         295200\n",
            "35            3  2020        4         279200\n",
            "36            4  2018        1         617300\n",
            "37            4  2018        2         699000\n",
            "38            4  2018        3         864300\n",
            "39            4  2018        4         403200\n",
            "40            4  2019        1         502600\n",
            "41            4  2019        2         683100\n",
            "42            4  2019        3         866800\n",
            "43            4  2019        4        1094480\n",
            "44            4  2020        1         583900\n",
            "45            4  2020        2         601100\n",
            "46            4  2020        3         414700\n",
            "47            4  2020        4         763400\n"
          ]
        }
      ]
    },
    {
      "cell_type": "code",
      "source": [
        "import matplotlib.pyplot as plt\n",
        "import seaborn as sns"
      ],
      "metadata": {
        "id": "hAxi-2t2W1uV"
      },
      "execution_count": null,
      "outputs": []
    },
    {
      "cell_type": "code",
      "source": [
        "plt.figure(figsize=(12, 6))\n",
        "sns.lineplot(data=industry_trend, x='Quarter', y='funded_amount', hue='industry_id', marker='o')\n",
        "plt.title('Funded Amount per Industry by Year and Quarter')\n",
        "plt.xlabel('Quarter')\n",
        "plt.ylabel('Funded Amount')\n",
        "plt.legend(title='Industry')\n",
        "plt.grid(True)\n",
        "plt.show()"
      ],
      "metadata": {
        "colab": {
          "base_uri": "https://localhost:8080/",
          "height": 509
        },
        "id": "C3O2I4abWol-",
        "outputId": "2edcebb9-ca8d-46d6-ac5f-3f5e44b09753"
      },
      "execution_count": null,
      "outputs": [
        {
          "output_type": "display_data",
          "data": {
            "text/plain": [
              "<Figure size 1200x600 with 1 Axes>"
            ],
            "image/png": "[encoded data removed]"
          },
          "metadata": {}
        }
      ]
    },
    {
      "cell_type": "code",
      "source": [
        "plt.figure(figsize=(10, 6))\n",
        "plt.bar(industry_stats.index, industry_stats['deal_id'], color='skyblue')\n",
        "plt.xlabel('Industry')\n",
        "plt.ylabel('Total Deals')\n",
        "plt.title('Total Deals by Industry')\n",
        "plt.xticks(rotation=45, ha='right')\n",
        "plt.tight_layout()\n",
        "plt.show()"
      ],
      "metadata": {
        "colab": {
          "base_uri": "https://localhost:8080/",
          "height": 554
        },
        "id": "tZBIHCPpXHiu",
        "outputId": "3733c144-f338-431b-a8fd-72413bd99ea7"
      },
      "execution_count": null,
      "outputs": [
        {
          "output_type": "display_data",
          "data": {
            "text/plain": [
              "<Figure size 1000x600 with 1 Axes>"
            ],
            "image/png": "[encoded data removed]"
          },
          "metadata": {}
        }
      ]
    }
  ]
}